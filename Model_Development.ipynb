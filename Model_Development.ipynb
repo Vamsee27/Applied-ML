{
 "cells": [
  {
   "cell_type": "markdown",
   "id": "5887c508",
   "metadata": {},
   "source": [
    "### Predicting the timestamp of the event occured using locations(lat and long) and depth of earthquake"
   ]
  },
  {
   "cell_type": "code",
   "execution_count": 1,
   "id": "4ef9dc72",
   "metadata": {},
   "outputs": [],
   "source": [
    "#importing lib\n",
    "import pandas as pd\n",
    "import numpy as np\n",
    "import datetime\n",
    "import math\n",
    "from sklearn.model_selection import train_test_split\n",
    "from sklearn.ensemble import RandomForestRegressor\n",
    "from keras.models import Sequential\n",
    "from keras.layers import Dense\n",
    "from keras.wrappers.scikit_learn import KerasClassifier\n",
    "from sklearn.model_selection import GridSearchCV\n",
    "from sklearn.metrics import accuracy_score, r2_score, mean_squared_error\n",
    "from sklearn.preprocessing import StandardScaler\n",
    "from sklearn.svm import SVR\n",
    "import sklearn.metrics as metrics"
   ]
  },
  {
   "cell_type": "code",
   "execution_count": 2,
   "id": "1cf0c841",
   "metadata": {},
   "outputs": [
    {
     "data": {
      "text/html": [
       "<div>\n",
       "<style scoped>\n",
       "    .dataframe tbody tr th:only-of-type {\n",
       "        vertical-align: middle;\n",
       "    }\n",
       "\n",
       "    .dataframe tbody tr th {\n",
       "        vertical-align: top;\n",
       "    }\n",
       "\n",
       "    .dataframe thead th {\n",
       "        text-align: right;\n",
       "    }\n",
       "</style>\n",
       "<table border=\"1\" class=\"dataframe\">\n",
       "  <thead>\n",
       "    <tr style=\"text-align: right;\">\n",
       "      <th></th>\n",
       "      <th>latitude</th>\n",
       "      <th>longitude</th>\n",
       "      <th>depth</th>\n",
       "      <th>mag</th>\n",
       "      <th>id</th>\n",
       "      <th>hour</th>\n",
       "      <th>date</th>\n",
       "    </tr>\n",
       "  </thead>\n",
       "  <tbody>\n",
       "    <tr>\n",
       "      <th>0</th>\n",
       "      <td>34.189835</td>\n",
       "      <td>-117.58800</td>\n",
       "      <td>6.000</td>\n",
       "      <td>1.70</td>\n",
       "      <td>ci12317071</td>\n",
       "      <td>0</td>\n",
       "      <td>1973-01-01</td>\n",
       "    </tr>\n",
       "    <tr>\n",
       "      <th>1</th>\n",
       "      <td>-9.214000</td>\n",
       "      <td>150.63400</td>\n",
       "      <td>41.000</td>\n",
       "      <td>5.30</td>\n",
       "      <td>usp0000001</td>\n",
       "      <td>3</td>\n",
       "      <td>1973-01-01</td>\n",
       "    </tr>\n",
       "    <tr>\n",
       "      <th>2</th>\n",
       "      <td>48.308666</td>\n",
       "      <td>-122.11733</td>\n",
       "      <td>13.680</td>\n",
       "      <td>2.20</td>\n",
       "      <td>uw10840118</td>\n",
       "      <td>4</td>\n",
       "      <td>1973-01-01</td>\n",
       "    </tr>\n",
       "    <tr>\n",
       "      <th>3</th>\n",
       "      <td>-15.012000</td>\n",
       "      <td>-173.95800</td>\n",
       "      <td>33.000</td>\n",
       "      <td>5.00</td>\n",
       "      <td>usp0000002</td>\n",
       "      <td>5</td>\n",
       "      <td>1973-01-01</td>\n",
       "    </tr>\n",
       "    <tr>\n",
       "      <th>4</th>\n",
       "      <td>19.443666</td>\n",
       "      <td>-155.36084</td>\n",
       "      <td>7.302</td>\n",
       "      <td>1.85</td>\n",
       "      <td>hv19723167</td>\n",
       "      <td>7</td>\n",
       "      <td>1973-01-01</td>\n",
       "    </tr>\n",
       "  </tbody>\n",
       "</table>\n",
       "</div>"
      ],
      "text/plain": [
       "    latitude  longitude   depth   mag          id  hour        date\n",
       "0  34.189835 -117.58800   6.000  1.70  ci12317071     0  1973-01-01\n",
       "1  -9.214000  150.63400  41.000  5.30  usp0000001     3  1973-01-01\n",
       "2  48.308666 -122.11733  13.680  2.20  uw10840118     4  1973-01-01\n",
       "3 -15.012000 -173.95800  33.000  5.00  usp0000002     5  1973-01-01\n",
       "4  19.443666 -155.36084   7.302  1.85  hv19723167     7  1973-01-01"
      ]
     },
     "execution_count": 2,
     "metadata": {},
     "output_type": "execute_result"
    }
   ],
   "source": [
    "#loading the dataset\n",
    "df = pd.read_csv('co-ordinates.csv')\n",
    "df.head()"
   ]
  },
  {
   "cell_type": "code",
   "execution_count": 3,
   "id": "d31db65c",
   "metadata": {},
   "outputs": [
    {
     "data": {
      "text/html": [
       "<div>\n",
       "<style scoped>\n",
       "    .dataframe tbody tr th:only-of-type {\n",
       "        vertical-align: middle;\n",
       "    }\n",
       "\n",
       "    .dataframe tbody tr th {\n",
       "        vertical-align: top;\n",
       "    }\n",
       "\n",
       "    .dataframe thead th {\n",
       "        text-align: right;\n",
       "    }\n",
       "</style>\n",
       "<table border=\"1\" class=\"dataframe\">\n",
       "  <thead>\n",
       "    <tr style=\"text-align: right;\">\n",
       "      <th></th>\n",
       "      <th>latitude</th>\n",
       "      <th>longitude</th>\n",
       "      <th>depth</th>\n",
       "      <th>mag</th>\n",
       "      <th>id</th>\n",
       "      <th>hour</th>\n",
       "      <th>date</th>\n",
       "    </tr>\n",
       "  </thead>\n",
       "  <tbody>\n",
       "    <tr>\n",
       "      <th>0</th>\n",
       "      <td>False</td>\n",
       "      <td>False</td>\n",
       "      <td>False</td>\n",
       "      <td>False</td>\n",
       "      <td>False</td>\n",
       "      <td>False</td>\n",
       "      <td>False</td>\n",
       "    </tr>\n",
       "    <tr>\n",
       "      <th>1</th>\n",
       "      <td>False</td>\n",
       "      <td>False</td>\n",
       "      <td>False</td>\n",
       "      <td>False</td>\n",
       "      <td>False</td>\n",
       "      <td>False</td>\n",
       "      <td>False</td>\n",
       "    </tr>\n",
       "    <tr>\n",
       "      <th>2</th>\n",
       "      <td>False</td>\n",
       "      <td>False</td>\n",
       "      <td>False</td>\n",
       "      <td>False</td>\n",
       "      <td>False</td>\n",
       "      <td>False</td>\n",
       "      <td>False</td>\n",
       "    </tr>\n",
       "    <tr>\n",
       "      <th>3</th>\n",
       "      <td>False</td>\n",
       "      <td>False</td>\n",
       "      <td>False</td>\n",
       "      <td>False</td>\n",
       "      <td>False</td>\n",
       "      <td>False</td>\n",
       "      <td>False</td>\n",
       "    </tr>\n",
       "    <tr>\n",
       "      <th>4</th>\n",
       "      <td>False</td>\n",
       "      <td>False</td>\n",
       "      <td>False</td>\n",
       "      <td>False</td>\n",
       "      <td>False</td>\n",
       "      <td>False</td>\n",
       "      <td>False</td>\n",
       "    </tr>\n",
       "    <tr>\n",
       "      <th>...</th>\n",
       "      <td>...</td>\n",
       "      <td>...</td>\n",
       "      <td>...</td>\n",
       "      <td>...</td>\n",
       "      <td>...</td>\n",
       "      <td>...</td>\n",
       "      <td>...</td>\n",
       "    </tr>\n",
       "    <tr>\n",
       "      <th>3855714</th>\n",
       "      <td>False</td>\n",
       "      <td>False</td>\n",
       "      <td>False</td>\n",
       "      <td>False</td>\n",
       "      <td>False</td>\n",
       "      <td>False</td>\n",
       "      <td>False</td>\n",
       "    </tr>\n",
       "    <tr>\n",
       "      <th>3855715</th>\n",
       "      <td>False</td>\n",
       "      <td>False</td>\n",
       "      <td>False</td>\n",
       "      <td>False</td>\n",
       "      <td>False</td>\n",
       "      <td>False</td>\n",
       "      <td>False</td>\n",
       "    </tr>\n",
       "    <tr>\n",
       "      <th>3855716</th>\n",
       "      <td>False</td>\n",
       "      <td>False</td>\n",
       "      <td>False</td>\n",
       "      <td>False</td>\n",
       "      <td>False</td>\n",
       "      <td>False</td>\n",
       "      <td>False</td>\n",
       "    </tr>\n",
       "    <tr>\n",
       "      <th>3855717</th>\n",
       "      <td>False</td>\n",
       "      <td>False</td>\n",
       "      <td>False</td>\n",
       "      <td>False</td>\n",
       "      <td>False</td>\n",
       "      <td>False</td>\n",
       "      <td>False</td>\n",
       "    </tr>\n",
       "    <tr>\n",
       "      <th>3855718</th>\n",
       "      <td>False</td>\n",
       "      <td>False</td>\n",
       "      <td>False</td>\n",
       "      <td>False</td>\n",
       "      <td>False</td>\n",
       "      <td>False</td>\n",
       "      <td>False</td>\n",
       "    </tr>\n",
       "  </tbody>\n",
       "</table>\n",
       "<p>3855719 rows × 7 columns</p>\n",
       "</div>"
      ],
      "text/plain": [
       "         latitude  longitude  depth    mag     id   hour   date\n",
       "0           False      False  False  False  False  False  False\n",
       "1           False      False  False  False  False  False  False\n",
       "2           False      False  False  False  False  False  False\n",
       "3           False      False  False  False  False  False  False\n",
       "4           False      False  False  False  False  False  False\n",
       "...           ...        ...    ...    ...    ...    ...    ...\n",
       "3855714     False      False  False  False  False  False  False\n",
       "3855715     False      False  False  False  False  False  False\n",
       "3855716     False      False  False  False  False  False  False\n",
       "3855717     False      False  False  False  False  False  False\n",
       "3855718     False      False  False  False  False  False  False\n",
       "\n",
       "[3855719 rows x 7 columns]"
      ]
     },
     "execution_count": 3,
     "metadata": {},
     "output_type": "execute_result"
    }
   ],
   "source": [
    "df.isnull()"
   ]
  },
  {
   "cell_type": "code",
   "execution_count": 4,
   "id": "d9631ec5",
   "metadata": {},
   "outputs": [
    {
     "name": "stdout",
     "output_type": "stream",
     "text": [
      "<class 'pandas.core.frame.DataFrame'>\n",
      "RangeIndex: 3855719 entries, 0 to 3855718\n",
      "Data columns (total 7 columns):\n",
      " #   Column     Dtype  \n",
      "---  ------     -----  \n",
      " 0   latitude   float64\n",
      " 1   longitude  float64\n",
      " 2   depth      float64\n",
      " 3   mag        float64\n",
      " 4   id         object \n",
      " 5   hour       int64  \n",
      " 6   date       object \n",
      "dtypes: float64(4), int64(1), object(2)\n",
      "memory usage: 640.1 MB\n"
     ]
    }
   ],
   "source": [
    "df.info(memory_usage = \"deep\")"
   ]
  },
  {
   "cell_type": "code",
   "execution_count": 5,
   "id": "8cbab302",
   "metadata": {},
   "outputs": [],
   "source": [
    "#dropping the duplicate values\n",
    "df.drop_duplicates(subset = ['date'], keep = 'first', inplace = True)"
   ]
  },
  {
   "cell_type": "code",
   "execution_count": 6,
   "id": "3f7b9fcf",
   "metadata": {},
   "outputs": [],
   "source": [
    "# Converting the date to timestamp\n",
    "df['date'] = pd.to_datetime(df['date'], format= '%Y-%m-%d')"
   ]
  },
  {
   "cell_type": "code",
   "execution_count": 7,
   "id": "3b6010ab",
   "metadata": {},
   "outputs": [],
   "source": [
    "timestamp = df.date.values.astype(float)\n",
    "timeStamp = pd.Series(timestamp)"
   ]
  },
  {
   "cell_type": "code",
   "execution_count": 8,
   "id": "73f23707",
   "metadata": {},
   "outputs": [],
   "source": [
    "#adding the timestamp values to Dataframe\n",
    "df['Timestamp'] = timeStamp.values"
   ]
  },
  {
   "cell_type": "code",
   "execution_count": 9,
   "id": "f8c50234",
   "metadata": {},
   "outputs": [
    {
     "data": {
      "text/html": [
       "<div>\n",
       "<style scoped>\n",
       "    .dataframe tbody tr th:only-of-type {\n",
       "        vertical-align: middle;\n",
       "    }\n",
       "\n",
       "    .dataframe tbody tr th {\n",
       "        vertical-align: top;\n",
       "    }\n",
       "\n",
       "    .dataframe thead th {\n",
       "        text-align: right;\n",
       "    }\n",
       "</style>\n",
       "<table border=\"1\" class=\"dataframe\">\n",
       "  <thead>\n",
       "    <tr style=\"text-align: right;\">\n",
       "      <th></th>\n",
       "      <th>latitude</th>\n",
       "      <th>longitude</th>\n",
       "      <th>depth</th>\n",
       "      <th>mag</th>\n",
       "      <th>Timestamp</th>\n",
       "    </tr>\n",
       "  </thead>\n",
       "  <tbody>\n",
       "    <tr>\n",
       "      <th>0</th>\n",
       "      <td>34.189835</td>\n",
       "      <td>-117.588000</td>\n",
       "      <td>6.00</td>\n",
       "      <td>1.70</td>\n",
       "      <td>9.469440e+16</td>\n",
       "    </tr>\n",
       "    <tr>\n",
       "      <th>11</th>\n",
       "      <td>-9.854000</td>\n",
       "      <td>117.427000</td>\n",
       "      <td>66.00</td>\n",
       "      <td>5.50</td>\n",
       "      <td>9.478080e+16</td>\n",
       "    </tr>\n",
       "    <tr>\n",
       "      <th>28</th>\n",
       "      <td>34.815834</td>\n",
       "      <td>-116.359500</td>\n",
       "      <td>6.00</td>\n",
       "      <td>2.98</td>\n",
       "      <td>9.486720e+16</td>\n",
       "    </tr>\n",
       "    <tr>\n",
       "      <th>48</th>\n",
       "      <td>41.305000</td>\n",
       "      <td>-29.272000</td>\n",
       "      <td>33.00</td>\n",
       "      <td>4.50</td>\n",
       "      <td>9.495360e+16</td>\n",
       "    </tr>\n",
       "    <tr>\n",
       "      <th>62</th>\n",
       "      <td>0.683000</td>\n",
       "      <td>-80.018000</td>\n",
       "      <td>36.00</td>\n",
       "      <td>4.70</td>\n",
       "      <td>9.504000e+16</td>\n",
       "    </tr>\n",
       "    <tr>\n",
       "      <th>...</th>\n",
       "      <td>...</td>\n",
       "      <td>...</td>\n",
       "      <td>...</td>\n",
       "      <td>...</td>\n",
       "      <td>...</td>\n",
       "    </tr>\n",
       "    <tr>\n",
       "      <th>3854141</th>\n",
       "      <td>47.579000</td>\n",
       "      <td>-122.545334</td>\n",
       "      <td>5.09</td>\n",
       "      <td>0.81</td>\n",
       "      <td>1.640563e+18</td>\n",
       "    </tr>\n",
       "    <tr>\n",
       "      <th>3854413</th>\n",
       "      <td>17.948800</td>\n",
       "      <td>-66.926500</td>\n",
       "      <td>10.00</td>\n",
       "      <td>2.22</td>\n",
       "      <td>1.640650e+18</td>\n",
       "    </tr>\n",
       "    <tr>\n",
       "      <th>3854741</th>\n",
       "      <td>58.451200</td>\n",
       "      <td>-143.092800</td>\n",
       "      <td>7.30</td>\n",
       "      <td>2.10</td>\n",
       "      <td>1.640736e+18</td>\n",
       "    </tr>\n",
       "    <tr>\n",
       "      <th>3855063</th>\n",
       "      <td>63.085500</td>\n",
       "      <td>-151.405500</td>\n",
       "      <td>2.90</td>\n",
       "      <td>2.30</td>\n",
       "      <td>1.640822e+18</td>\n",
       "    </tr>\n",
       "    <tr>\n",
       "      <th>3855366</th>\n",
       "      <td>37.653400</td>\n",
       "      <td>-31.768700</td>\n",
       "      <td>10.00</td>\n",
       "      <td>5.00</td>\n",
       "      <td>1.640909e+18</td>\n",
       "    </tr>\n",
       "  </tbody>\n",
       "</table>\n",
       "<p>17897 rows × 5 columns</p>\n",
       "</div>"
      ],
      "text/plain": [
       "          latitude   longitude  depth   mag     Timestamp\n",
       "0        34.189835 -117.588000   6.00  1.70  9.469440e+16\n",
       "11       -9.854000  117.427000  66.00  5.50  9.478080e+16\n",
       "28       34.815834 -116.359500   6.00  2.98  9.486720e+16\n",
       "48       41.305000  -29.272000  33.00  4.50  9.495360e+16\n",
       "62        0.683000  -80.018000  36.00  4.70  9.504000e+16\n",
       "...            ...         ...    ...   ...           ...\n",
       "3854141  47.579000 -122.545334   5.09  0.81  1.640563e+18\n",
       "3854413  17.948800  -66.926500  10.00  2.22  1.640650e+18\n",
       "3854741  58.451200 -143.092800   7.30  2.10  1.640736e+18\n",
       "3855063  63.085500 -151.405500   2.90  2.30  1.640822e+18\n",
       "3855366  37.653400  -31.768700  10.00  5.00  1.640909e+18\n",
       "\n",
       "[17897 rows x 5 columns]"
      ]
     },
     "execution_count": 9,
     "metadata": {},
     "output_type": "execute_result"
    }
   ],
   "source": [
    "df = df[['latitude','longitude','depth','mag','Timestamp']]\n",
    "df"
   ]
  },
  {
   "cell_type": "code",
   "execution_count": 10,
   "id": "624395c9",
   "metadata": {},
   "outputs": [
    {
     "name": "stdout",
     "output_type": "stream",
     "text": [
      "<class 'pandas.core.frame.DataFrame'>\n",
      "Int64Index: 17897 entries, 0 to 3855366\n",
      "Data columns (total 5 columns):\n",
      " #   Column     Non-Null Count  Dtype  \n",
      "---  ------     --------------  -----  \n",
      " 0   latitude   17897 non-null  float64\n",
      " 1   longitude  17897 non-null  float64\n",
      " 2   depth      17897 non-null  float64\n",
      " 3   mag        17897 non-null  float64\n",
      " 4   Timestamp  17897 non-null  float64\n",
      "dtypes: float64(5)\n",
      "memory usage: 838.9 KB\n"
     ]
    }
   ],
   "source": [
    "df.info(memory_usage = \"deep\")"
   ]
  },
  {
   "cell_type": "markdown",
   "id": "e89a9324",
   "metadata": {},
   "source": [
    "### Splitting the data and Standardizing features"
   ]
  },
  {
   "cell_type": "code",
   "execution_count": 11,
   "id": "25cb9120",
   "metadata": {},
   "outputs": [],
   "source": [
    "x = df[['latitude', 'longitude','depth']]\n",
    "y = df[['Timestamp']]"
   ]
  },
  {
   "cell_type": "code",
   "execution_count": 12,
   "id": "af215072",
   "metadata": {},
   "outputs": [
    {
     "data": {
      "text/html": [
       "<div>\n",
       "<style scoped>\n",
       "    .dataframe tbody tr th:only-of-type {\n",
       "        vertical-align: middle;\n",
       "    }\n",
       "\n",
       "    .dataframe tbody tr th {\n",
       "        vertical-align: top;\n",
       "    }\n",
       "\n",
       "    .dataframe thead th {\n",
       "        text-align: right;\n",
       "    }\n",
       "</style>\n",
       "<table border=\"1\" class=\"dataframe\">\n",
       "  <thead>\n",
       "    <tr style=\"text-align: right;\">\n",
       "      <th></th>\n",
       "      <th>latitude</th>\n",
       "      <th>longitude</th>\n",
       "      <th>depth</th>\n",
       "    </tr>\n",
       "  </thead>\n",
       "  <tbody>\n",
       "    <tr>\n",
       "      <th>2461126</th>\n",
       "      <td>37.559666</td>\n",
       "      <td>-122.513664</td>\n",
       "      <td>8.039</td>\n",
       "    </tr>\n",
       "    <tr>\n",
       "      <th>2911681</th>\n",
       "      <td>18.170000</td>\n",
       "      <td>-66.818000</td>\n",
       "      <td>25.000</td>\n",
       "    </tr>\n",
       "    <tr>\n",
       "      <th>323248</th>\n",
       "      <td>19.658500</td>\n",
       "      <td>-155.966660</td>\n",
       "      <td>9.538</td>\n",
       "    </tr>\n",
       "    <tr>\n",
       "      <th>1718261</th>\n",
       "      <td>19.368166</td>\n",
       "      <td>-155.498170</td>\n",
       "      <td>8.483</td>\n",
       "    </tr>\n",
       "    <tr>\n",
       "      <th>29662</th>\n",
       "      <td>43.965000</td>\n",
       "      <td>147.009000</td>\n",
       "      <td>33.000</td>\n",
       "    </tr>\n",
       "    <tr>\n",
       "      <th>...</th>\n",
       "      <td>...</td>\n",
       "      <td>...</td>\n",
       "      <td>...</td>\n",
       "    </tr>\n",
       "    <tr>\n",
       "      <th>1529995</th>\n",
       "      <td>35.207500</td>\n",
       "      <td>-120.866330</td>\n",
       "      <td>2.369</td>\n",
       "    </tr>\n",
       "    <tr>\n",
       "      <th>1737228</th>\n",
       "      <td>44.565000</td>\n",
       "      <td>-116.016000</td>\n",
       "      <td>5.000</td>\n",
       "    </tr>\n",
       "    <tr>\n",
       "      <th>432926</th>\n",
       "      <td>23.820000</td>\n",
       "      <td>142.893000</td>\n",
       "      <td>33.000</td>\n",
       "    </tr>\n",
       "    <tr>\n",
       "      <th>27889</th>\n",
       "      <td>36.912000</td>\n",
       "      <td>-121.473170</td>\n",
       "      <td>4.954</td>\n",
       "    </tr>\n",
       "    <tr>\n",
       "      <th>2911384</th>\n",
       "      <td>62.953900</td>\n",
       "      <td>-148.854400</td>\n",
       "      <td>1.700</td>\n",
       "    </tr>\n",
       "  </tbody>\n",
       "</table>\n",
       "<p>14317 rows × 3 columns</p>\n",
       "</div>"
      ],
      "text/plain": [
       "          latitude   longitude   depth\n",
       "2461126  37.559666 -122.513664   8.039\n",
       "2911681  18.170000  -66.818000  25.000\n",
       "323248   19.658500 -155.966660   9.538\n",
       "1718261  19.368166 -155.498170   8.483\n",
       "29662    43.965000  147.009000  33.000\n",
       "...            ...         ...     ...\n",
       "1529995  35.207500 -120.866330   2.369\n",
       "1737228  44.565000 -116.016000   5.000\n",
       "432926   23.820000  142.893000  33.000\n",
       "27889    36.912000 -121.473170   4.954\n",
       "2911384  62.953900 -148.854400   1.700\n",
       "\n",
       "[14317 rows x 3 columns]"
      ]
     },
     "execution_count": 12,
     "metadata": {},
     "output_type": "execute_result"
    }
   ],
   "source": [
    "x_train, x_test, y_train, y_test = train_test_split(x,y, test_size=0.2, random_state=42)\n",
    "x_train"
   ]
  },
  {
   "cell_type": "code",
   "execution_count": 13,
   "id": "d0f9a897",
   "metadata": {},
   "outputs": [],
   "source": [
    "sc = StandardScaler()\n",
    "\n",
    "x_train = sc.fit_transform(x_train)\n",
    "x_test = sc.fit_transform(x_test)\n",
    "y_train = sc.fit_transform(y_train)\n",
    "y_test = sc.fit_transform(y_test)"
   ]
  },
  {
   "cell_type": "code",
   "execution_count": 14,
   "id": "69607420",
   "metadata": {},
   "outputs": [
    {
     "data": {
      "text/plain": [
       "array([[ 0.16880357, -0.35505611, -0.27575003],\n",
       "       [-0.78014453,  0.3132047 ,  0.0061121 ],\n",
       "       [-0.70729597, -0.75643971, -0.25083927],\n",
       "       ...,\n",
       "       [-0.50362833,  2.82940851,  0.1390581 ],\n",
       "       [ 0.1371062 , -0.34257181, -0.32701733],\n",
       "       [ 1.41162076, -0.67110372, -0.38109311]])"
      ]
     },
     "execution_count": 14,
     "metadata": {},
     "output_type": "execute_result"
    }
   ],
   "source": [
    "x_train"
   ]
  },
  {
   "cell_type": "markdown",
   "id": "c545ddaf",
   "metadata": {},
   "source": [
    "## RFG : Random Forest Regression"
   ]
  },
  {
   "cell_type": "code",
   "execution_count": 15,
   "id": "b5f92a8b",
   "metadata": {},
   "outputs": [],
   "source": [
    "rfg = RandomForestRegressor()"
   ]
  },
  {
   "cell_type": "code",
   "execution_count": 16,
   "id": "9d44185d",
   "metadata": {},
   "outputs": [
    {
     "name": "stderr",
     "output_type": "stream",
     "text": [
      "/var/folders/ms/hl5_dq311577sqms3sr7jsc00000gn/T/ipykernel_7453/2097697493.py:1: DataConversionWarning: A column-vector y was passed when a 1d array was expected. Please change the shape of y to (n_samples,), for example using ravel().\n",
      "  rfg.fit(x_train,y_train)\n"
     ]
    },
    {
     "data": {
      "text/plain": [
       "RandomForestRegressor()"
      ]
     },
     "execution_count": 16,
     "metadata": {},
     "output_type": "execute_result"
    }
   ],
   "source": [
    "rfg.fit(x_train,y_train)"
   ]
  },
  {
   "cell_type": "markdown",
   "id": "527111d6",
   "metadata": {},
   "source": [
    "### RFG Predictions"
   ]
  },
  {
   "cell_type": "code",
   "execution_count": 17,
   "id": "1356913d",
   "metadata": {},
   "outputs": [
    {
     "data": {
      "text/html": [
       "<div>\n",
       "<style scoped>\n",
       "    .dataframe tbody tr th:only-of-type {\n",
       "        vertical-align: middle;\n",
       "    }\n",
       "\n",
       "    .dataframe tbody tr th {\n",
       "        vertical-align: top;\n",
       "    }\n",
       "\n",
       "    .dataframe thead th {\n",
       "        text-align: right;\n",
       "    }\n",
       "</style>\n",
       "<table border=\"1\" class=\"dataframe\">\n",
       "  <thead>\n",
       "    <tr style=\"text-align: right;\">\n",
       "      <th></th>\n",
       "      <th>Timestamp</th>\n",
       "    </tr>\n",
       "  </thead>\n",
       "  <tbody>\n",
       "    <tr>\n",
       "      <th>0</th>\n",
       "      <td>1.218328</td>\n",
       "    </tr>\n",
       "    <tr>\n",
       "      <th>1</th>\n",
       "      <td>-1.022462</td>\n",
       "    </tr>\n",
       "    <tr>\n",
       "      <th>2</th>\n",
       "      <td>-0.726683</td>\n",
       "    </tr>\n",
       "    <tr>\n",
       "      <th>3</th>\n",
       "      <td>-0.206004</td>\n",
       "    </tr>\n",
       "    <tr>\n",
       "      <th>4</th>\n",
       "      <td>-0.758082</td>\n",
       "    </tr>\n",
       "    <tr>\n",
       "      <th>...</th>\n",
       "      <td>...</td>\n",
       "    </tr>\n",
       "    <tr>\n",
       "      <th>3575</th>\n",
       "      <td>-0.501446</td>\n",
       "    </tr>\n",
       "    <tr>\n",
       "      <th>3576</th>\n",
       "      <td>0.259929</td>\n",
       "    </tr>\n",
       "    <tr>\n",
       "      <th>3577</th>\n",
       "      <td>-0.536297</td>\n",
       "    </tr>\n",
       "    <tr>\n",
       "      <th>3578</th>\n",
       "      <td>0.198334</td>\n",
       "    </tr>\n",
       "    <tr>\n",
       "      <th>3579</th>\n",
       "      <td>-0.120059</td>\n",
       "    </tr>\n",
       "  </tbody>\n",
       "</table>\n",
       "<p>3580 rows × 1 columns</p>\n",
       "</div>"
      ],
      "text/plain": [
       "      Timestamp\n",
       "0      1.218328\n",
       "1     -1.022462\n",
       "2     -0.726683\n",
       "3     -0.206004\n",
       "4     -0.758082\n",
       "...         ...\n",
       "3575  -0.501446\n",
       "3576   0.259929\n",
       "3577  -0.536297\n",
       "3578   0.198334\n",
       "3579  -0.120059\n",
       "\n",
       "[3580 rows x 1 columns]"
      ]
     },
     "execution_count": 17,
     "metadata": {},
     "output_type": "execute_result"
    }
   ],
   "source": [
    "#predicting the values using loc and depth\n",
    "rfg_predict = rfg.predict(x_test)\n",
    "\n",
    "final_rfg_predicted_values = pd.DataFrame(rfg_predict,columns = ['Timestamp'])\n",
    "final_rfg_predicted_values"
   ]
  },
  {
   "cell_type": "markdown",
   "id": "c85aff68",
   "metadata": {},
   "source": [
    "### RFG Evaluation Metrics"
   ]
  },
  {
   "cell_type": "code",
   "execution_count": 18,
   "id": "793a02f3",
   "metadata": {},
   "outputs": [
    {
     "name": "stdout",
     "output_type": "stream",
     "text": [
      "MSE : 0.8463044190633853, RMSE : 0.9199480523721898, R_Squared : 0.15369558093661495\n"
     ]
    }
   ],
   "source": [
    "#mean_squared_error\n",
    "rfg_mse = mean_squared_error(y_test, rfg_predict)\n",
    "\n",
    "#root_mean_squared_error\n",
    "rfg_rmse = math.sqrt(rfg_mse)\n",
    "\n",
    "#r_squared of the model\n",
    "rfg_r2 = r2_score(y_test, rfg_predict)\n",
    "\n",
    "print(f'MSE : {rfg_mse}, RMSE : {rfg_rmse}, R_Squared : {rfg_r2}')"
   ]
  },
  {
   "cell_type": "code",
   "execution_count": 19,
   "id": "8b554976",
   "metadata": {},
   "outputs": [
    {
     "name": "stdout",
     "output_type": "stream",
     "text": [
      "Score of the model : 1.0\n"
     ]
    }
   ],
   "source": [
    "#score of the model\n",
    "model_score = rfg.score(x_test, rfg_predict)\n",
    "print(f'Score of the model : {model_score}')"
   ]
  },
  {
   "cell_type": "markdown",
   "id": "62c51e43",
   "metadata": {},
   "source": [
    "## SVR : Support Vector Regression"
   ]
  },
  {
   "cell_type": "code",
   "execution_count": 20,
   "id": "abfb6881",
   "metadata": {},
   "outputs": [],
   "source": [
    "svr_reg = SVR(kernel='rbf')"
   ]
  },
  {
   "cell_type": "code",
   "execution_count": 21,
   "id": "d5e36c1e",
   "metadata": {},
   "outputs": [
    {
     "name": "stderr",
     "output_type": "stream",
     "text": [
      "/Users/saim/miniforge3/envs/env_tf/lib/python3.9/site-packages/sklearn/utils/validation.py:993: DataConversionWarning: A column-vector y was passed when a 1d array was expected. Please change the shape of y to (n_samples, ), for example using ravel().\n",
      "  y = column_or_1d(y, warn=True)\n"
     ]
    },
    {
     "data": {
      "text/plain": [
       "SVR()"
      ]
     },
     "execution_count": 21,
     "metadata": {},
     "output_type": "execute_result"
    }
   ],
   "source": [
    "svr_reg.fit(x_train,y_train)"
   ]
  },
  {
   "cell_type": "markdown",
   "id": "5118d28a",
   "metadata": {},
   "source": [
    "### SVR Predictions"
   ]
  },
  {
   "cell_type": "code",
   "execution_count": 22,
   "id": "2f2a2d39",
   "metadata": {},
   "outputs": [
    {
     "data": {
      "text/html": [
       "<div>\n",
       "<style scoped>\n",
       "    .dataframe tbody tr th:only-of-type {\n",
       "        vertical-align: middle;\n",
       "    }\n",
       "\n",
       "    .dataframe tbody tr th {\n",
       "        vertical-align: top;\n",
       "    }\n",
       "\n",
       "    .dataframe thead th {\n",
       "        text-align: right;\n",
       "    }\n",
       "</style>\n",
       "<table border=\"1\" class=\"dataframe\">\n",
       "  <thead>\n",
       "    <tr style=\"text-align: right;\">\n",
       "      <th></th>\n",
       "      <th>Timestamp</th>\n",
       "    </tr>\n",
       "  </thead>\n",
       "  <tbody>\n",
       "    <tr>\n",
       "      <th>0</th>\n",
       "      <td>0.806587</td>\n",
       "    </tr>\n",
       "    <tr>\n",
       "      <th>1</th>\n",
       "      <td>-0.485679</td>\n",
       "    </tr>\n",
       "    <tr>\n",
       "      <th>2</th>\n",
       "      <td>-0.282179</td>\n",
       "    </tr>\n",
       "    <tr>\n",
       "      <th>3</th>\n",
       "      <td>0.137419</td>\n",
       "    </tr>\n",
       "    <tr>\n",
       "      <th>4</th>\n",
       "      <td>-1.091897</td>\n",
       "    </tr>\n",
       "    <tr>\n",
       "      <th>...</th>\n",
       "      <td>...</td>\n",
       "    </tr>\n",
       "    <tr>\n",
       "      <th>3575</th>\n",
       "      <td>-0.209858</td>\n",
       "    </tr>\n",
       "    <tr>\n",
       "      <th>3576</th>\n",
       "      <td>0.558045</td>\n",
       "    </tr>\n",
       "    <tr>\n",
       "      <th>3577</th>\n",
       "      <td>-0.219920</td>\n",
       "    </tr>\n",
       "    <tr>\n",
       "      <th>3578</th>\n",
       "      <td>-0.188199</td>\n",
       "    </tr>\n",
       "    <tr>\n",
       "      <th>3579</th>\n",
       "      <td>-0.280871</td>\n",
       "    </tr>\n",
       "  </tbody>\n",
       "</table>\n",
       "<p>3580 rows × 1 columns</p>\n",
       "</div>"
      ],
      "text/plain": [
       "      Timestamp\n",
       "0      0.806587\n",
       "1     -0.485679\n",
       "2     -0.282179\n",
       "3      0.137419\n",
       "4     -1.091897\n",
       "...         ...\n",
       "3575  -0.209858\n",
       "3576   0.558045\n",
       "3577  -0.219920\n",
       "3578  -0.188199\n",
       "3579  -0.280871\n",
       "\n",
       "[3580 rows x 1 columns]"
      ]
     },
     "execution_count": 22,
     "metadata": {},
     "output_type": "execute_result"
    }
   ],
   "source": [
    "svr_reg_pred = svr_reg.predict(x_test)\n",
    "\n",
    "final_svr_predicted_values = pd.DataFrame(svr_reg_pred,columns = ['Timestamp'])\n",
    "final_svr_predicted_values"
   ]
  },
  {
   "cell_type": "markdown",
   "id": "d26b632c",
   "metadata": {},
   "source": [
    "### SVR Evaluation Metrics"
   ]
  },
  {
   "cell_type": "code",
   "execution_count": 23,
   "id": "f1d79116",
   "metadata": {},
   "outputs": [
    {
     "name": "stdout",
     "output_type": "stream",
     "text": [
      "MSE : 0.849554434860911, RMSE : 0.9217127724301704, R_Squared : 0.15044556513908924\n"
     ]
    }
   ],
   "source": [
    "#mean_squared_error\n",
    "svr_mse = mean_squared_error(y_test, svr_reg_pred)\n",
    "\n",
    "#root_mean_squared_error\n",
    "svr_rmse = math.sqrt(svr_mse)\n",
    "\n",
    "#r_squared of the model\n",
    "svr_r2 = r2_score(y_test, svr_reg_pred)\n",
    "\n",
    "print(f'MSE : {svr_mse}, RMSE : {svr_rmse}, R_Squared : {svr_r2}')"
   ]
  },
  {
   "cell_type": "markdown",
   "id": "52a7406b",
   "metadata": {},
   "source": [
    "## ANN with GridSearchCV"
   ]
  },
  {
   "cell_type": "code",
   "execution_count": 24,
   "id": "82d4e46a",
   "metadata": {},
   "outputs": [],
   "source": [
    "def nn(neurons, activation, optimizer, loss):\n",
    "    model = Sequential()\n",
    "    model.add(Dense(neurons, activation=activation, input_shape=(3,)))\n",
    "    model.add(Dense(neurons, activation=activation))\n",
    "    model.add(Dense(2, activation='softmax'))\n",
    "    \n",
    "    model.compile(optimizer=optimizer, loss=loss, metrics=['accuracy'])\n",
    "    \n",
    "    return model"
   ]
  },
  {
   "cell_type": "code",
   "execution_count": 25,
   "id": "0c04879d",
   "metadata": {},
   "outputs": [
    {
     "name": "stderr",
     "output_type": "stream",
     "text": [
      "/var/folders/ms/hl5_dq311577sqms3sr7jsc00000gn/T/ipykernel_7453/3997088455.py:1: DeprecationWarning: KerasClassifier is deprecated, use Sci-Keras (https://github.com/adriangb/scikeras) instead. See https://www.adriangb.com/scikeras/stable/migration.html for help migrating.\n",
      "  model = KerasClassifier(build_fn=nn, verbose=0)\n"
     ]
    }
   ],
   "source": [
    "model = KerasClassifier(build_fn=nn, verbose=0)"
   ]
  },
  {
   "cell_type": "code",
   "execution_count": 26,
   "id": "da33c19c",
   "metadata": {},
   "outputs": [],
   "source": [
    "neurons = [16]\n",
    "batch_size = [10]\n",
    "epochs = [10]\n",
    "activation = ['sigmoid', 'relu']\n",
    "optimizer = ['SGD', 'Adam']\n",
    "loss = ['mean_squared_error']"
   ]
  },
  {
   "cell_type": "code",
   "execution_count": 27,
   "id": "5be5a00c",
   "metadata": {},
   "outputs": [],
   "source": [
    "prm = dict(neurons=neurons, batch_size=batch_size, epochs=epochs, activation=activation, optimizer=optimizer, loss=loss)"
   ]
  },
  {
   "cell_type": "code",
   "execution_count": 28,
   "id": "8d18f020",
   "metadata": {},
   "outputs": [],
   "source": [
    "gsc = GridSearchCV(estimator=model, param_grid=prm, n_jobs=-1)"
   ]
  },
  {
   "cell_type": "code",
   "execution_count": 29,
   "id": "1c5ce218",
   "metadata": {},
   "outputs": [
    {
     "name": "stdout",
     "output_type": "stream",
     "text": [
      "Metal device set to: Apple M1\n",
      "Metal device set to: Apple M1\n",
      "Metal device set to: Apple M1\n",
      "Metal device set to: Apple M1\n",
      "Metal device set to: Apple M1\n",
      "Metal device set to: Apple M1\n"
     ]
    },
    {
     "name": "stderr",
     "output_type": "stream",
     "text": [
      "2022-12-20 16:36:16.530584: I tensorflow/core/common_runtime/pluggable_device/pluggable_device_factory.cc:305] Could not identify NUMA node of platform GPU ID 0, defaulting to 0. Your kernel may not have been built with NUMA support.\n",
      "2022-12-20 16:36:16.531160: I tensorflow/core/common_runtime/pluggable_device/pluggable_device_factory.cc:271] Created TensorFlow device (/job:localhost/replica:0/task:0/device:GPU:0 with 0 MB memory) -> physical PluggableDevice (device: 0, name: METAL, pci bus id: <undefined>)\n",
      "2022-12-20 16:36:16.606291: I tensorflow/core/common_runtime/pluggable_device/pluggable_device_factory.cc:305] Could not identify NUMA node of platform GPU ID 0, defaulting to 0. Your kernel may not have been built with NUMA support.\n",
      "2022-12-20 16:36:16.606520: I tensorflow/core/common_runtime/pluggable_device/pluggable_device_factory.cc:271] Created TensorFlow device (/job:localhost/replica:0/task:0/device:GPU:0 with 0 MB memory) -> physical PluggableDevice (device: 0, name: METAL, pci bus id: <undefined>)\n",
      "2022-12-20 16:36:16.653248: I tensorflow/core/common_runtime/pluggable_device/pluggable_device_factory.cc:305] Could not identify NUMA node of platform GPU ID 0, defaulting to 0. Your kernel may not have been built with NUMA support.\n",
      "2022-12-20 16:36:16.653604: I tensorflow/core/common_runtime/pluggable_device/pluggable_device_factory.cc:271] Created TensorFlow device (/job:localhost/replica:0/task:0/device:GPU:0 with 0 MB memory) -> physical PluggableDevice (device: 0, name: METAL, pci bus id: <undefined>)\n",
      "2022-12-20 16:36:16.693694: I tensorflow/core/common_runtime/pluggable_device/pluggable_device_factory.cc:305] Could not identify NUMA node of platform GPU ID 0, defaulting to 0. Your kernel may not have been built with NUMA support.\n",
      "2022-12-20 16:36:16.693797: I tensorflow/core/common_runtime/pluggable_device/pluggable_device_factory.cc:271] Created TensorFlow device (/job:localhost/replica:0/task:0/device:GPU:0 with 0 MB memory) -> physical PluggableDevice (device: 0, name: METAL, pci bus id: <undefined>)\n",
      "2022-12-20 16:36:16.703683: I tensorflow/core/common_runtime/pluggable_device/pluggable_device_factory.cc:305] Could not identify NUMA node of platform GPU ID 0, defaulting to 0. Your kernel may not have been built with NUMA support.\n",
      "2022-12-20 16:36:16.704005: I tensorflow/core/common_runtime/pluggable_device/pluggable_device_factory.cc:271] Created TensorFlow device (/job:localhost/replica:0/task:0/device:GPU:0 with 0 MB memory) -> physical PluggableDevice (device: 0, name: METAL, pci bus id: <undefined>)\n",
      "2022-12-20 16:36:16.708440: I tensorflow/core/common_runtime/pluggable_device/pluggable_device_factory.cc:305] Could not identify NUMA node of platform GPU ID 0, defaulting to 0. Your kernel may not have been built with NUMA support.\n",
      "2022-12-20 16:36:16.708526: I tensorflow/core/common_runtime/pluggable_device/pluggable_device_factory.cc:271] Created TensorFlow device (/job:localhost/replica:0/task:0/device:GPU:0 with 0 MB memory) -> physical PluggableDevice (device: 0, name: METAL, pci bus id: <undefined>)\n"
     ]
    },
    {
     "name": "stdout",
     "output_type": "stream",
     "text": [
      "Metal device set to: Apple M1\n",
      "Metal device set to: Apple M1\n"
     ]
    },
    {
     "name": "stderr",
     "output_type": "stream",
     "text": [
      "2022-12-20 16:36:16.745651: I tensorflow/core/common_runtime/pluggable_device/pluggable_device_factory.cc:305] Could not identify NUMA node of platform GPU ID 0, defaulting to 0. Your kernel may not have been built with NUMA support.\n",
      "2022-12-20 16:36:16.745764: I tensorflow/core/common_runtime/pluggable_device/pluggable_device_factory.cc:271] Created TensorFlow device (/job:localhost/replica:0/task:0/device:GPU:0 with 0 MB memory) -> physical PluggableDevice (device: 0, name: METAL, pci bus id: <undefined>)\n",
      "2022-12-20 16:36:16.773153: I tensorflow/core/common_runtime/pluggable_device/pluggable_device_factory.cc:305] Could not identify NUMA node of platform GPU ID 0, defaulting to 0. Your kernel may not have been built with NUMA support.\n",
      "2022-12-20 16:36:16.773794: I tensorflow/core/common_runtime/pluggable_device/pluggable_device_factory.cc:271] Created TensorFlow device (/job:localhost/replica:0/task:0/device:GPU:0 with 0 MB memory) -> physical PluggableDevice (device: 0, name: METAL, pci bus id: <undefined>)\n",
      "2022-12-20 16:36:16.848189: W tensorflow/core/platform/profile_utils/cpu_utils.cc:128] Failed to get CPU frequency: 0 Hz\n",
      "2022-12-20 16:36:16.859470: W tensorflow/core/platform/profile_utils/cpu_utils.cc:128] Failed to get CPU frequency: 0 Hz\n",
      "2022-12-20 16:36:16.934431: W tensorflow/core/platform/profile_utils/cpu_utils.cc:128] Failed to get CPU frequency: 0 Hz\n",
      "2022-12-20 16:36:17.011951: W tensorflow/core/platform/profile_utils/cpu_utils.cc:128] Failed to get CPU frequency: 0 Hz\n",
      "2022-12-20 16:36:17.045253: W tensorflow/core/platform/profile_utils/cpu_utils.cc:128] Failed to get CPU frequency: 0 Hz\n",
      "2022-12-20 16:36:17.052326: W tensorflow/core/platform/profile_utils/cpu_utils.cc:128] Failed to get CPU frequency: 0 Hz\n",
      "2022-12-20 16:36:17.055964: W tensorflow/core/platform/profile_utils/cpu_utils.cc:128] Failed to get CPU frequency: 0 Hz\n",
      "2022-12-20 16:36:17.073451: W tensorflow/core/platform/profile_utils/cpu_utils.cc:128] Failed to get CPU frequency: 0 Hz\n",
      "2022-12-20 16:36:17.121997: I tensorflow/core/grappler/optimizers/custom_graph_optimizer_registry.cc:113] Plugin optimizer for device_type GPU is enabled.\n",
      "2022-12-20 16:36:17.126580: I tensorflow/core/grappler/optimizers/custom_graph_optimizer_registry.cc:113] Plugin optimizer for device_type GPU is enabled.\n",
      "2022-12-20 16:36:17.199954: I tensorflow/core/grappler/optimizers/custom_graph_optimizer_registry.cc:113] Plugin optimizer for device_type GPU is enabled.\n",
      "2022-12-20 16:36:17.258225: I tensorflow/core/grappler/optimizers/custom_graph_optimizer_registry.cc:113] Plugin optimizer for device_type GPU is enabled.\n",
      "2022-12-20 16:36:17.283895: I tensorflow/core/grappler/optimizers/custom_graph_optimizer_registry.cc:113] Plugin optimizer for device_type GPU is enabled.\n",
      "2022-12-20 16:36:17.344012: I tensorflow/core/grappler/optimizers/custom_graph_optimizer_registry.cc:113] Plugin optimizer for device_type GPU is enabled.\n",
      "2022-12-20 16:36:17.454125: I tensorflow/core/grappler/optimizers/custom_graph_optimizer_registry.cc:113] Plugin optimizer for device_type GPU is enabled.\n",
      "2022-12-20 16:36:17.561794: I tensorflow/core/grappler/optimizers/custom_graph_optimizer_registry.cc:113] Plugin optimizer for device_type GPU is enabled.\n",
      "2022-12-20 16:38:50.564569: I tensorflow/core/grappler/optimizers/custom_graph_optimizer_registry.cc:113] Plugin optimizer for device_type GPU is enabled.\n",
      "2022-12-20 16:38:51.144435: I tensorflow/core/grappler/optimizers/custom_graph_optimizer_registry.cc:113] Plugin optimizer for device_type GPU is enabled.\n",
      "2022-12-20 16:38:51.162643: I tensorflow/core/grappler/optimizers/custom_graph_optimizer_registry.cc:113] Plugin optimizer for device_type GPU is enabled.\n",
      "2022-12-20 16:38:51.168640: I tensorflow/core/grappler/optimizers/custom_graph_optimizer_registry.cc:113] Plugin optimizer for device_type GPU is enabled.\n",
      "2022-12-20 16:38:54.391606: I tensorflow/core/grappler/optimizers/custom_graph_optimizer_registry.cc:113] Plugin optimizer for device_type GPU is enabled.\n",
      "2022-12-20 16:38:54.461771: I tensorflow/core/grappler/optimizers/custom_graph_optimizer_registry.cc:113] Plugin optimizer for device_type GPU is enabled.\n",
      "2022-12-20 16:38:54.582212: I tensorflow/core/grappler/optimizers/custom_graph_optimizer_registry.cc:113] Plugin optimizer for device_type GPU is enabled.\n",
      "2022-12-20 16:38:54.742351: I tensorflow/core/grappler/optimizers/custom_graph_optimizer_registry.cc:113] Plugin optimizer for device_type GPU is enabled.\n",
      "2022-12-20 16:39:02.945775: I tensorflow/core/grappler/optimizers/custom_graph_optimizer_registry.cc:113] Plugin optimizer for device_type GPU is enabled.\n",
      "2022-12-20 16:39:03.357762: I tensorflow/core/grappler/optimizers/custom_graph_optimizer_registry.cc:113] Plugin optimizer for device_type GPU is enabled.\n",
      "2022-12-20 16:39:03.892536: I tensorflow/core/grappler/optimizers/custom_graph_optimizer_registry.cc:113] Plugin optimizer for device_type GPU is enabled.\n",
      "2022-12-20 16:39:07.032469: I tensorflow/core/grappler/optimizers/custom_graph_optimizer_registry.cc:113] Plugin optimizer for device_type GPU is enabled.\n",
      "2022-12-20 16:39:07.303810: I tensorflow/core/grappler/optimizers/custom_graph_optimizer_registry.cc:113] Plugin optimizer for device_type GPU is enabled.\n",
      "2022-12-20 16:39:09.947062: I tensorflow/core/grappler/optimizers/custom_graph_optimizer_registry.cc:113] Plugin optimizer for device_type GPU is enabled.\n",
      "2022-12-20 16:39:39.722289: I tensorflow/core/grappler/optimizers/custom_graph_optimizer_registry.cc:113] Plugin optimizer for device_type GPU is enabled.\n",
      "2022-12-20 16:39:46.961095: I tensorflow/core/grappler/optimizers/custom_graph_optimizer_registry.cc:113] Plugin optimizer for device_type GPU is enabled.\n",
      "2022-12-20 16:41:23.023788: I tensorflow/core/grappler/optimizers/custom_graph_optimizer_registry.cc:113] Plugin optimizer for device_type GPU is enabled.\n",
      "2022-12-20 16:41:23.266943: I tensorflow/core/grappler/optimizers/custom_graph_optimizer_registry.cc:113] Plugin optimizer for device_type GPU is enabled.\n",
      "2022-12-20 16:41:28.598474: I tensorflow/core/grappler/optimizers/custom_graph_optimizer_registry.cc:113] Plugin optimizer for device_type GPU is enabled.\n",
      "2022-12-20 16:41:28.856107: I tensorflow/core/grappler/optimizers/custom_graph_optimizer_registry.cc:113] Plugin optimizer for device_type GPU is enabled.\n",
      "2022-12-20 16:41:38.456623: I tensorflow/core/grappler/optimizers/custom_graph_optimizer_registry.cc:113] Plugin optimizer for device_type GPU is enabled.\n",
      "2022-12-20 16:41:38.516579: I tensorflow/core/grappler/optimizers/custom_graph_optimizer_registry.cc:113] Plugin optimizer for device_type GPU is enabled.\n",
      "2022-12-20 16:41:38.613724: I tensorflow/core/grappler/optimizers/custom_graph_optimizer_registry.cc:113] Plugin optimizer for device_type GPU is enabled.\n",
      "2022-12-20 16:41:40.427674: I tensorflow/core/grappler/optimizers/custom_graph_optimizer_registry.cc:113] Plugin optimizer for device_type GPU is enabled.\n",
      "2022-12-20 16:41:41.682710: I tensorflow/core/grappler/optimizers/custom_graph_optimizer_registry.cc:113] Plugin optimizer for device_type GPU is enabled.\n",
      "2022-12-20 16:41:42.937105: I tensorflow/core/grappler/optimizers/custom_graph_optimizer_registry.cc:113] Plugin optimizer for device_type GPU is enabled.\n",
      "2022-12-20 16:41:43.133864: I tensorflow/core/grappler/optimizers/custom_graph_optimizer_registry.cc:113] Plugin optimizer for device_type GPU is enabled.\n",
      "2022-12-20 16:42:20.510589: I tensorflow/core/grappler/optimizers/custom_graph_optimizer_registry.cc:113] Plugin optimizer for device_type GPU is enabled.\n",
      "2022-12-20 16:43:17.784873: I tensorflow/core/grappler/optimizers/custom_graph_optimizer_registry.cc:113] Plugin optimizer for device_type GPU is enabled.\n",
      "2022-12-20 16:43:18.151509: I tensorflow/core/grappler/optimizers/custom_graph_optimizer_registry.cc:113] Plugin optimizer for device_type GPU is enabled.\n",
      "2022-12-20 16:43:24.502075: I tensorflow/core/grappler/optimizers/custom_graph_optimizer_registry.cc:113] Plugin optimizer for device_type GPU is enabled.\n",
      "2022-12-20 16:43:24.520137: I tensorflow/core/grappler/optimizers/custom_graph_optimizer_registry.cc:113] Plugin optimizer for device_type GPU is enabled.\n"
     ]
    },
    {
     "name": "stderr",
     "output_type": "stream",
     "text": [
      "2022-12-20 16:43:25.590931: I tensorflow/core/common_runtime/pluggable_device/pluggable_device_factory.cc:305] Could not identify NUMA node of platform GPU ID 0, defaulting to 0. Your kernel may not have been built with NUMA support.\n",
      "2022-12-20 16:43:25.591118: I tensorflow/core/common_runtime/pluggable_device/pluggable_device_factory.cc:271] Created TensorFlow device (/job:localhost/replica:0/task:0/device:GPU:0 with 0 MB memory) -> physical PluggableDevice (device: 0, name: METAL, pci bus id: <undefined>)\n",
      "2022-12-20 16:43:25.763137: W tensorflow/core/platform/profile_utils/cpu_utils.cc:128] Failed to get CPU frequency: 0 Hz\n"
     ]
    },
    {
     "name": "stdout",
     "output_type": "stream",
     "text": [
      "Metal device set to: Apple M1\n"
     ]
    },
    {
     "name": "stderr",
     "output_type": "stream",
     "text": [
      "2022-12-20 16:43:25.950364: I tensorflow/core/grappler/optimizers/custom_graph_optimizer_registry.cc:113] Plugin optimizer for device_type GPU is enabled.\n"
     ]
    }
   ],
   "source": [
    "result = gsc.fit(x_train, y_train)"
   ]
  },
  {
   "cell_type": "code",
   "execution_count": 30,
   "id": "9e74cd84",
   "metadata": {},
   "outputs": [
    {
     "name": "stdout",
     "output_type": "stream",
     "text": [
      "Best: 0.000140 using {'activation': 'sigmoid', 'batch_size': 10, 'epochs': 10, 'loss': 'mean_squared_error', 'neurons': 16, 'optimizer': 'Adam'}\n"
     ]
    }
   ],
   "source": [
    "print(\"Best: %f using %s\" % (result.best_score_,result.best_params_))"
   ]
  },
  {
   "cell_type": "code",
   "execution_count": 42,
   "id": "ae701778",
   "metadata": {},
   "outputs": [],
   "source": [
    "mean_test_score = result.cv_results_['mean_test_score']\n",
    "std_test_score = result.cv_results_['std_test_score']\n",
    "params = result.cv_results_['params']"
   ]
  },
  {
   "cell_type": "code",
   "execution_count": 43,
   "id": "c63b8d8d",
   "metadata": {},
   "outputs": [],
   "source": [
    "model = Sequential()\n",
    "\n",
    "model.add(Dense(16, activation='relu', input_shape=(3,)))\n",
    "model.add(Dense(16, activation='relu'))\n",
    "model.add(Dense(2, activation='softmax'))"
   ]
  },
  {
   "cell_type": "code",
   "execution_count": 44,
   "id": "e689f9ac",
   "metadata": {},
   "outputs": [],
   "source": [
    "model.compile(optimizer='SGD', loss='mean_squared_error')"
   ]
  },
  {
   "cell_type": "code",
   "execution_count": 45,
   "id": "c500552a",
   "metadata": {},
   "outputs": [
    {
     "name": "stdout",
     "output_type": "stream",
     "text": [
      "Epoch 1/20\n",
      "  23/1432 [..............................] - ETA: 6s - loss: 1.2821 "
     ]
    },
    {
     "name": "stderr",
     "output_type": "stream",
     "text": [
      "2022-12-20 16:53:43.473488: I tensorflow/core/grappler/optimizers/custom_graph_optimizer_registry.cc:113] Plugin optimizer for device_type GPU is enabled.\n"
     ]
    },
    {
     "name": "stdout",
     "output_type": "stream",
     "text": [
      "1432/1432 [==============================] - ETA: 0s - loss: 1.2517"
     ]
    },
    {
     "name": "stderr",
     "output_type": "stream",
     "text": [
      "2022-12-20 16:53:49.616770: I tensorflow/core/grappler/optimizers/custom_graph_optimizer_registry.cc:113] Plugin optimizer for device_type GPU is enabled.\n"
     ]
    },
    {
     "name": "stdout",
     "output_type": "stream",
     "text": [
      "1432/1432 [==============================] - 7s 5ms/step - loss: 1.2517 - val_loss: 1.2503\n",
      "Epoch 2/20\n",
      "1432/1432 [==============================] - 7s 5ms/step - loss: 1.2502 - val_loss: 1.2501\n",
      "Epoch 3/20\n",
      "1432/1432 [==============================] - 7s 5ms/step - loss: 1.2501 - val_loss: 1.2501\n",
      "Epoch 4/20\n",
      "1432/1432 [==============================] - 7s 5ms/step - loss: 1.2501 - val_loss: 1.2501\n",
      "Epoch 5/20\n",
      "1432/1432 [==============================] - 7s 5ms/step - loss: 1.2501 - val_loss: 1.2501\n",
      "Epoch 6/20\n",
      "1432/1432 [==============================] - 7s 5ms/step - loss: 1.2501 - val_loss: 1.2501\n",
      "Epoch 7/20\n",
      "1432/1432 [==============================] - 7s 5ms/step - loss: 1.2501 - val_loss: 1.2500\n",
      "Epoch 8/20\n",
      "1432/1432 [==============================] - 7s 5ms/step - loss: 1.2500 - val_loss: 1.2500\n",
      "Epoch 9/20\n",
      "1432/1432 [==============================] - 7s 5ms/step - loss: 1.2500 - val_loss: 1.2500\n",
      "Epoch 10/20\n",
      "1432/1432 [==============================] - 7s 5ms/step - loss: 1.2500 - val_loss: 1.2500\n",
      "Epoch 11/20\n",
      "1432/1432 [==============================] - 7s 5ms/step - loss: 1.2500 - val_loss: 1.2500\n",
      "Epoch 12/20\n",
      "1432/1432 [==============================] - 7s 5ms/step - loss: 1.2500 - val_loss: 1.2500\n",
      "Epoch 13/20\n",
      "1432/1432 [==============================] - 7s 5ms/step - loss: 1.2500 - val_loss: 1.2500\n",
      "Epoch 14/20\n",
      "1432/1432 [==============================] - 7s 5ms/step - loss: 1.2500 - val_loss: 1.2500\n",
      "Epoch 15/20\n",
      "1432/1432 [==============================] - 7s 5ms/step - loss: 1.2500 - val_loss: 1.2500\n",
      "Epoch 16/20\n",
      "1432/1432 [==============================] - 7s 5ms/step - loss: 1.2500 - val_loss: 1.2500\n",
      "Epoch 17/20\n",
      "1432/1432 [==============================] - 7s 5ms/step - loss: 1.2500 - val_loss: 1.2500\n",
      "Epoch 18/20\n",
      "1432/1432 [==============================] - 8s 5ms/step - loss: 1.2500 - val_loss: 1.2500\n",
      "Epoch 19/20\n",
      "1432/1432 [==============================] - 7s 5ms/step - loss: 1.2500 - val_loss: 1.2500\n",
      "Epoch 20/20\n",
      "1432/1432 [==============================] - 7s 5ms/step - loss: 1.2500 - val_loss: 1.2500\n"
     ]
    },
    {
     "data": {
      "text/plain": [
       "<keras.callbacks.History at 0x2ea7c1790>"
      ]
     },
     "execution_count": 45,
     "metadata": {},
     "output_type": "execute_result"
    }
   ],
   "source": [
    "model.fit(x_train, y_train, batch_size=10, epochs=20,verbose =1, validation_data=(x_test,y_test))"
   ]
  },
  {
   "cell_type": "markdown",
   "id": "bd10133d",
   "metadata": {},
   "source": [
    "### ANN Evaluation Metrics"
   ]
  },
  {
   "cell_type": "code",
   "execution_count": 78,
   "id": "93e9ee83",
   "metadata": {},
   "outputs": [
    {
     "name": "stdout",
     "output_type": "stream",
     "text": [
      "112/112 [==============================] - 0s 3ms/step - loss: 1.2500\n"
     ]
    }
   ],
   "source": [
    "ann_mse = model.evaluate(x_test, y_test)\n",
    "ann_rmse = math.sqrt(ann_mse)"
   ]
  },
  {
   "cell_type": "code",
   "execution_count": 48,
   "id": "30a01c10",
   "metadata": {},
   "outputs": [
    {
     "name": "stdout",
     "output_type": "stream",
     "text": [
      "Mean Squared Error = 1.2500306367874146, Root Mean Squared Error = 1.118047689853798\n"
     ]
    }
   ],
   "source": [
    "print(f\"Mean Squared Error = {ann_mse}, Root Mean Squared Error = {ann_rmse}\")"
   ]
  },
  {
   "cell_type": "markdown",
   "id": "04a64569",
   "metadata": {},
   "source": [
    "## Comparison of the models"
   ]
  },
  {
   "cell_type": "markdown",
   "id": "85733ec1",
   "metadata": {},
   "source": [
    "#### Models without Hyper-Paramter tuning"
   ]
  },
  {
   "cell_type": "code",
   "execution_count": 85,
   "id": "96b3869c",
   "metadata": {},
   "outputs": [],
   "source": [
    "compar_data1 = { 'RFG' : [rfg_mse,rfg_rmse,rfg_r2],\n",
    "                'SVR' : [svr_mse,svr_rmse,svr_r2],\n",
    "              }"
   ]
  },
  {
   "cell_type": "code",
   "execution_count": 87,
   "id": "85aa4cdd",
   "metadata": {},
   "outputs": [
    {
     "data": {
      "text/html": [
       "<div>\n",
       "<style scoped>\n",
       "    .dataframe tbody tr th:only-of-type {\n",
       "        vertical-align: middle;\n",
       "    }\n",
       "\n",
       "    .dataframe tbody tr th {\n",
       "        vertical-align: top;\n",
       "    }\n",
       "\n",
       "    .dataframe thead th {\n",
       "        text-align: right;\n",
       "    }\n",
       "</style>\n",
       "<table border=\"1\" class=\"dataframe\">\n",
       "  <thead>\n",
       "    <tr style=\"text-align: right;\">\n",
       "      <th></th>\n",
       "      <th>RFG</th>\n",
       "      <th>SVR</th>\n",
       "    </tr>\n",
       "  </thead>\n",
       "  <tbody>\n",
       "    <tr>\n",
       "      <th>MSE</th>\n",
       "      <td>0.846304</td>\n",
       "      <td>0.849554</td>\n",
       "    </tr>\n",
       "    <tr>\n",
       "      <th>RMSE</th>\n",
       "      <td>0.919948</td>\n",
       "      <td>0.921713</td>\n",
       "    </tr>\n",
       "    <tr>\n",
       "      <th>R SQUARED</th>\n",
       "      <td>0.153696</td>\n",
       "      <td>0.150446</td>\n",
       "    </tr>\n",
       "  </tbody>\n",
       "</table>\n",
       "</div>"
      ],
      "text/plain": [
       "                RFG       SVR\n",
       "MSE        0.846304  0.849554\n",
       "RMSE       0.919948  0.921713\n",
       "R SQUARED  0.153696  0.150446"
      ]
     },
     "execution_count": 87,
     "metadata": {},
     "output_type": "execute_result"
    }
   ],
   "source": [
    "model_compar1 = pd.DataFrame(compar_data1,index = ['MSE','RMSE','R SQUARED'])\n",
    "model_compar1"
   ]
  },
  {
   "cell_type": "markdown",
   "id": "099c21e6",
   "metadata": {},
   "source": [
    "RFG performed better and faster than SVR"
   ]
  },
  {
   "cell_type": "markdown",
   "id": "bcb71286",
   "metadata": {},
   "source": [
    "#### All models"
   ]
  },
  {
   "cell_type": "code",
   "execution_count": 81,
   "id": "85056836",
   "metadata": {},
   "outputs": [],
   "source": [
    "compar_data2 = { 'RFG' : [rfg_mse,rfg_rmse],\n",
    "                'SVR' : [svr_mse,svr_rmse],\n",
    "                'ANN' : [ann_mse,ann_rmse]\n",
    "              }"
   ]
  },
  {
   "cell_type": "code",
   "execution_count": 82,
   "id": "08564135",
   "metadata": {},
   "outputs": [
    {
     "data": {
      "text/html": [
       "<div>\n",
       "<style scoped>\n",
       "    .dataframe tbody tr th:only-of-type {\n",
       "        vertical-align: middle;\n",
       "    }\n",
       "\n",
       "    .dataframe tbody tr th {\n",
       "        vertical-align: top;\n",
       "    }\n",
       "\n",
       "    .dataframe thead th {\n",
       "        text-align: right;\n",
       "    }\n",
       "</style>\n",
       "<table border=\"1\" class=\"dataframe\">\n",
       "  <thead>\n",
       "    <tr style=\"text-align: right;\">\n",
       "      <th></th>\n",
       "      <th>RFG</th>\n",
       "      <th>SVR</th>\n",
       "      <th>ANN</th>\n",
       "    </tr>\n",
       "  </thead>\n",
       "  <tbody>\n",
       "    <tr>\n",
       "      <th>MSE</th>\n",
       "      <td>0.846304</td>\n",
       "      <td>0.849554</td>\n",
       "      <td>1.250031</td>\n",
       "    </tr>\n",
       "    <tr>\n",
       "      <th>RMSE</th>\n",
       "      <td>0.919948</td>\n",
       "      <td>0.921713</td>\n",
       "      <td>1.118048</td>\n",
       "    </tr>\n",
       "  </tbody>\n",
       "</table>\n",
       "</div>"
      ],
      "text/plain": [
       "           RFG       SVR       ANN\n",
       "MSE   0.846304  0.849554  1.250031\n",
       "RMSE  0.919948  0.921713  1.118048"
      ]
     },
     "execution_count": 82,
     "metadata": {},
     "output_type": "execute_result"
    }
   ],
   "source": [
    "model_compar2 = pd.DataFrame(compar_data2,index = ['MSE','RMSE'])\n",
    "model_compar2"
   ]
  },
  {
   "cell_type": "markdown",
   "id": "d8ac182e",
   "metadata": {},
   "source": [
    "Among 3 models, RFG performed slightly better"
   ]
  }
 ],
 "metadata": {
  "kernelspec": {
   "display_name": "Python 3 (ipykernel)",
   "language": "python",
   "name": "python3"
  },
  "language_info": {
   "codemirror_mode": {
    "name": "ipython",
    "version": 3
   },
   "file_extension": ".py",
   "mimetype": "text/x-python",
   "name": "python",
   "nbconvert_exporter": "python",
   "pygments_lexer": "ipython3",
   "version": "3.9.10"
  }
 },
 "nbformat": 4,
 "nbformat_minor": 5
}
